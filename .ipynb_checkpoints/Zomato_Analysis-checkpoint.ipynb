{
 "cells": [
  {
   "cell_type": "markdown",
   "id": "0b53d530",
   "metadata": {},
   "source": [
    "# 🍽️ Zomato Data Analysis\n",
    "This notebook performs data cleaning, analysis, and visualization on the Zomato dataset."
   ]
  },
  {
   "cell_type": "code",
   "execution_count": null,
   "id": "c7430eaf",
   "metadata": {},
   "outputs": [],
   "source": [
    "# Step 1: Import Libraries\n",
    "import pandas as pd\n",
    "import numpy as np\n",
    "import seaborn as sns\n",
    "import matplotlib.pyplot as plt\n",
    "%matplotlib inline"
   ]
  },
  {
   "cell_type": "code",
   "execution_count": null,
   "id": "b8769f2f",
   "metadata": {},
   "outputs": [],
   "source": [
    "# Step 2: Load Dataset\n",
    "df = pd.read_csv('zomato.csv')\n",
    "df.head()"
   ]
  },
  {
   "cell_type": "code",
   "execution_count": null,
   "id": "f65f81d9",
   "metadata": {},
   "outputs": [],
   "source": [
    "# Step 3: Clean Data\n",
    "df.dropna(how='any', inplace=True)\n",
    "df.drop_duplicates(inplace=True)\n",
    "df['rate'] = df['rate'].astype(str).apply(lambda x: x.split('/')[0])\n",
    "df['rate'] = df['rate'].replace(['NEW', '-'], np.nan).astype(float)\n",
    "df['approx_cost(for two people)'] = df['approx_cost(for two people)'].astype(str).str.replace(',', '')\n",
    "df['approx_cost(for two people)'] = pd.to_numeric(df['approx_cost(for two people)'], errors='coerce')\n",
    "df.rename(columns={\n",
    "    'approx_cost(for two people)': 'cost_for_two',\n",
    "    'listed_in(type)': 'type',\n",
    "    'listed_in(city)': 'city'\n",
    "}, inplace=True)\n",
    "df.head()"
   ]
  },
  {
   "cell_type": "code",
   "execution_count": null,
   "id": "8be818e6",
   "metadata": {},
   "outputs": [],
   "source": [
    "# Step 4: Summary Info\n",
    "df.info()\n",
    "df.isnull().sum()"
   ]
  },
  {
   "cell_type": "code",
   "execution_count": null,
   "id": "029f996e",
   "metadata": {},
   "outputs": [],
   "source": [
    "# Step 5: Online Order Count\n",
    "sns.countplot(x='online_order', data=df)\n",
    "plt.title('Online Order Availability')\n",
    "plt.show()"
   ]
  },
  {
   "cell_type": "code",
   "execution_count": null,
   "id": "9feeca86",
   "metadata": {},
   "outputs": [],
   "source": [
    "# Step 6: Book Table Count\n",
    "sns.countplot(x='book_table', data=df)\n",
    "plt.title('Table Booking Availability')\n",
    "plt.show()"
   ]
  },
  {
   "cell_type": "code",
   "execution_count": null,
   "id": "c7b6d2aa",
   "metadata": {},
   "outputs": [],
   "source": [
    "# Step 7: Rating by Type\n",
    "sns.barplot(x='type', y='rate', data=df, ci=None)\n",
    "plt.xticks(rotation=45)\n",
    "plt.title('Average Rating by Restaurant Type')\n",
    "plt.show()"
   ]
  },
  {
   "cell_type": "code",
   "execution_count": null,
   "id": "c6e5ca6d",
   "metadata": {},
   "outputs": [],
   "source": [
    "# Step 8: Votes Distribution\n",
    "sns.histplot(df['votes'], bins=30, kde=True)\n",
    "plt.title('Votes Distribution')\n",
    "plt.show()"
   ]
  },
  {
   "cell_type": "code",
   "execution_count": null,
   "id": "0782d8b7",
   "metadata": {},
   "outputs": [],
   "source": [
    "# Step 9: Cost for Two Distribution\n",
    "sns.histplot(df['cost_for_two'], bins=30, kde=True)\n",
    "plt.title('Cost for Two Distribution')\n",
    "plt.show()"
   ]
  },
  {
   "cell_type": "code",
   "execution_count": null,
   "id": "2e03b0ac",
   "metadata": {},
   "outputs": [],
   "source": [
    "# Step 10: Correlation Heatmap\n",
    "sns.heatmap(df[['rate', 'votes', 'cost_for_two']].corr(), annot=True, cmap='coolwarm')\n",
    "plt.title('Correlation Heatmap')\n",
    "plt.show()"
   ]
  },
  {
   "cell_type": "code",
   "execution_count": null,
   "id": "786f4b39",
   "metadata": {},
   "outputs": [],
   "source": [
    "# Step 11: Top Rated Restaurants\n",
    "top_rated = df.sort_values(by='rate', ascending=False).head(10)\n",
    "top_rated[['name', 'rate', 'votes', 'cost_for_two']]"
   ]
  }
 ],
 "metadata": {},
 "nbformat": 4,
 "nbformat_minor": 5
}
